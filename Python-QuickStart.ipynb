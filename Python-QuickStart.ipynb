{
 "cells": [
  {
   "cell_type": "code",
   "execution_count": 1,
   "metadata": {},
   "outputs": [
    {
     "output_type": "stream",
     "name": "stdout",
     "text": "2011-10-29\n2011\n10/29/2011 20:30\n2011-10-29 20:01:09\n17 days, 1:59:39\n<class 'datetime.timedelta'>\n2009-10-31 00:00:00\n"
    }
   ],
   "source": [
    "from datetime import datetime, date, time\n",
    "\n",
    "dt = datetime(2011, 10, 29, 20, 30, 21)\n",
    "dt2 = datetime(2011, 11, 15, 22, 30)\n",
    "print(dt.date())\n",
    "print(dt.year)\n",
    "print(dt.strftime('%m/%d/%Y %H:%M'))\n",
    "print(dt.replace(minute=1, second=9))\n",
    "\n",
    "# Diffrence of two datetime produces datetime.timedelta\n",
    "delta = dt2-dt\n",
    "print(delta)\n",
    "print(type(delta))\n",
    "# Date time can be parsed from String\n",
    "print(datetime.strptime('20091031', '%Y%m%d'))"
   ]
  },
  {
   "cell_type": "code",
   "execution_count": 2,
   "metadata": {},
   "outputs": [
    {
     "output_type": "stream",
     "name": "stdout",
     "text": "<class 'str'>\n<class 'float'>\n<class 'str'>\n"
    }
   ],
   "source": [
    "# Type Casting\n",
    "s = '3.149'\n",
    "print(type(s))\n",
    "fval = float(s)\n",
    "print(type(fval))\n",
    "f = 8.25\n",
    "sval = str(f)\n",
    "print(type(sval))"
   ]
  },
  {
   "cell_type": "code",
   "execution_count": 25,
   "metadata": {},
   "outputs": [
    {
     "output_type": "stream",
     "name": "stdout",
     "text": "b'English'\n<class 'bytes'>\nEnglish\n"
    }
   ],
   "source": [
    "# UTF-8\n",
    "val = 'English'\n",
    "val_utf8 = val.encode('utf-8')\n",
    "print(val_utf8)\n",
    "print(type(val_utf8))\n",
    "print(val_utf8.decode('utf-8'))"
   ]
  },
  {
   "cell_type": "code",
   "execution_count": 26,
   "metadata": {},
   "outputs": [
    {
     "output_type": "stream",
     "name": "stdout",
     "text": "True\n"
    }
   ],
   "source": [
    "# None - null equivalent in Python\n",
    "# None also default return type for a function\n",
    "a_none = None\n",
    "print(a_none is None)"
   ]
  },
  {
   "cell_type": "code",
   "execution_count": 4,
   "metadata": {},
   "outputs": [],
   "source": [
    "# Pass - It is the no op statement in Python\n",
    "x = -9\n",
    "if x < 0:\n",
    "    print('Negetive !')\n",
    "elif x == 0:\n",
    "    # doing nothing here, hence pass, like cards game\n",
    "    pass\n",
    "else:\n",
    "    print('Postive !')"
   ]
  },
  {
   "cell_type": "code",
   "execution_count": 10,
   "metadata": {},
   "outputs": [
    {
     "output_type": "stream",
     "name": "stdout",
     "text": "[0, 1, 2, 3, 4, 5, 6, 7, 8, 9, 10, 11, 12, 13, 14, 15, 16, 17, 18, 19]\n[0, 2, 4, 6, 8, 10, 12, 14, 16, 18]\n"
    }
   ],
   "source": [
    "# Range function returns a iterator thats yields a sequnce of evenly spaced integers\n",
    "rangeList = list(range(20))\n",
    "rangeListWithStep = list(range(0,20,2))\n",
    "print(rangeList)\n",
    "print(rangeListWithStep)"
   ]
  },
  {
   "cell_type": "code",
   "execution_count": null,
   "metadata": {},
   "outputs": [],
   "source": []
  }
 ],
 "metadata": {
  "language_info": {
   "codemirror_mode": {
    "name": "ipython",
    "version": 3
   },
   "file_extension": ".py",
   "mimetype": "text/x-python",
   "name": "python",
   "nbconvert_exporter": "python",
   "pygments_lexer": "ipython3",
   "version": "3.7.7-final"
  },
  "orig_nbformat": 2,
  "kernelspec": {
   "name": "python3",
   "display_name": "Python 3"
  }
 },
 "nbformat": 4,
 "nbformat_minor": 2
}